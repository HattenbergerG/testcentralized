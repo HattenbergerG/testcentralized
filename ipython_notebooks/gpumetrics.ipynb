{
  "metadata": {
    "kernelspec": {
      "name": "py-dku-containerized-venv-gpu39-eks-gpu",
      "display_name": "Python in eks-gpu (env gpu39)",
      "language": "python"
    },
    "hide_input": false,
    "creator": "admin",
    "tags": [],
    "customFields": {},
    "createdOn": 1698240102128,
    "modifiedBy": "admin"
  },
  "nbformat": 4,
  "nbformat_minor": 1,
  "cells": [
    {
      "execution_count": 0,
      "cell_type": "code",
      "metadata": {},
      "source": [
        "!nivida-smi"
      ],
      "outputs": []
    },
    {
      "execution_count": 0,
      "cell_type": "code",
      "metadata": {},
      "source": [
        ""
      ],
      "outputs": []
    }
  ]
}