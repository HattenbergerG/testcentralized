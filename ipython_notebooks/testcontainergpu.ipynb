{
  "metadata": {
    "kernelspec": {
      "name": "py-dku-containerized-venv-gpu39-eks-gpu",
      "display_name": "Python in eks-gpu (env gpu39)",
      "language": "python"
    },
    "hide_input": false,
    "creator": "admin",
    "tags": [],
    "customFields": {},
    "createdOn": 1698238528367,
    "modifiedBy": "admin"
  },
  "nbformat": 4,
  "nbformat_minor": 1,
  "cells": [
    {
      "execution_count": 0,
      "cell_type": "code",
      "metadata": {},
      "source": [
        "import dataiku\nfrom dataiku import pandasutils as pdu\nimport pandas as pd"
      ],
      "outputs": []
    },
    {
      "execution_count": 0,
      "cell_type": "code",
      "metadata": {},
      "source": [
        "# Example: load a DSS dataset as a Pandas dataframe\nmydataset \u003d dataiku.Dataset(\"mydataset\")\nmydataset_df \u003d mydataset.get_dataframe()"
      ],
      "outputs": []
    },
    {
      "execution_count": 0,
      "cell_type": "code",
      "metadata": {},
      "source": [
        ""
      ],
      "outputs": []
    }
  ]
}