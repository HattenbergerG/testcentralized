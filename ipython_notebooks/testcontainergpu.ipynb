{
  "metadata": {
    "kernelspec": {
      "name": "py-dku-containerized-venv-gpu39-eks-gpu",
      "display_name": "Python in eks-gpu (env gpu39)",
      "language": "python"
    },
    "hide_input": false,
    "language_info": {
      "name": "python",
      "version": "3.9.17",
      "mimetype": "text/x-python",
      "codemirror_mode": {
        "name": "ipython",
        "version": 3
      },
      "pygments_lexer": "ipython3",
      "nbconvert_exporter": "python",
      "file_extension": ".py"
    },
    "creator": "admin",
    "modifiedBy": "admin",
    "tags": [],
    "customFields": {},
    "createdOn": 1698238528367
  },
  "nbformat": 4,
  "nbformat_minor": 1,
  "cells": [
    {
      "execution_count": 0,
      "cell_type": "code",
      "metadata": {},
      "source": [
        "import dataiku\nfrom dataiku import pandasutils as pdu\nimport pandas as pd"
      ],
      "outputs": []
    },
    {
      "execution_count": 0,
      "cell_type": "code",
      "metadata": {},
      "source": [
        "import torch\nimport math\n\n\ndtype \u003d torch.float\n#device \u003d torch.device(\"cpu\")\ndevice \u003d torch.device(\"cuda:0\") # Uncomment this to run on GPU\n\n# Create random input and output data\nx \u003d torch.linspace(-math.pi, math.pi, 2000, device\u003ddevice, dtype\u003ddtype)\ny \u003d torch.sin(x)\n\n# Randomly initialize weights\na \u003d torch.randn((), device\u003ddevice, dtype\u003ddtype)\nb \u003d torch.randn((), device\u003ddevice, dtype\u003ddtype)\nc \u003d torch.randn((), device\u003ddevice, dtype\u003ddtype)\nd \u003d torch.randn((), device\u003ddevice, dtype\u003ddtype)\n\nlearning_rate \u003d 1e-6\nfor t in range(100000):\n    # Forward pass: compute predicted y\n    y_pred \u003d a + b * x + c * x ** 2 + d * x ** 3\n\n    # Compute and print loss\n    loss \u003d (y_pred - y).pow(2).sum().item()\n    if t % 100 \u003d\u003d 99:\n        print(t, loss)\n\n    # Backprop to compute gradients of a, b, c, d with respect to loss\n    grad_y_pred \u003d 2.0 * (y_pred - y)\n    grad_a \u003d grad_y_pred.sum()\n    grad_b \u003d (grad_y_pred * x).sum()\n    grad_c \u003d (grad_y_pred * x ** 2).sum()\n    grad_d \u003d (grad_y_pred * x ** 3).sum()\n\n    # Update weights using gradient descent\n    a -\u003d learning_rate * grad_a\n    b -\u003d learning_rate * grad_b\n    c -\u003d learning_rate * grad_c\n    d -\u003d learning_rate * grad_d\n\n\nprint(f\u0027Result: y \u003d {a.item()} + {b.item()} x + {c.item()} x^2 + {d.item()} x^3\u0027)\n"
      ],
      "outputs": []
    },
    {
      "execution_count": 0,
      "cell_type": "code",
      "metadata": {},
      "source": [
        ""
      ],
      "outputs": []
    }
  ]
}